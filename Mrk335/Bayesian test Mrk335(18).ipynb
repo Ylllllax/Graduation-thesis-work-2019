{
 "cells": [
  {
   "cell_type": "markdown",
   "metadata": {},
   "source": [
    "# Bayesian test Mrk335(18)"
   ]
  },
  {
   "cell_type": "code",
   "execution_count": 1,
   "metadata": {},
   "outputs": [],
   "source": [
    "import numpy as np\n",
    "import math\n",
    "import matplotlib.pyplot as plt\n",
    "from scipy.fftpack import fft,ifft\n",
    "import pandas as pd\n",
    "from scipy.optimize import minimize\n",
    "from scipy.optimize import basinhopping\n",
    "from iminuit import Minuit\n",
    "\n",
    "import emcee\n",
    "from pprint import pprint\n",
    "import time\n",
    "from multiprocessing import Pool\n",
    "\n",
    "import random"
   ]
  },
  {
   "cell_type": "code",
   "execution_count": 3,
   "metadata": {},
   "outputs": [],
   "source": [
    "# 似然函数 p; D = -2 ln p\n",
    "\n",
    "def twi_minus_loglikelihood(log_A,log_f_b,alpha_H,poisson):\n",
    "    alpha_L = 1.0\n",
    "    \n",
    "    perdata18 = pd.read_csv(\"perlist18.csv\")\n",
    "    f = perdata18['f']\n",
    "    per = perdata18['per']\n",
    "            \n",
    "    model = []\n",
    "    f_length = len(f)\n",
    "    for i in range(f_length):\n",
    "        model.append(((f[i]**(-alpha_L))/(1+(f[i]/(10**log_f_b))**(alpha_H-alpha_L)))*(10**log_A)+poisson)\n",
    "     \n",
    "    \n",
    "    length = len(perdata18)\n",
    "    minus_log_p = 0\n",
    "    for i in range(length):\n",
    "        minus_log_p += (per[i]/model[i]+math.log(model[i]))\n",
    "    \n",
    "    \n",
    "    D = 2*minus_log_p\n",
    "    # print (D)\n",
    "    return D"
   ]
  },
  {
   "cell_type": "code",
   "execution_count": 7,
   "metadata": {},
   "outputs": [
    {
     "data": {
      "text/html": [
       "<hr>"
      ]
     },
     "metadata": {},
     "output_type": "display_data"
    },
    {
     "data": {
      "text/html": [
       "<table>\n",
       "    <tr>\n",
       "        <td title=\"Minimum value of function\">FCN = 4158.28979154928</td>\n",
       "        <td title=\"Total number of call to FCN so far\">TOTAL NCALL = 191</td>\n",
       "        <td title=\"Number of call in last migrad\">NCALLS = 191</td>\n",
       "    </tr>\n",
       "    <tr>\n",
       "        <td title=\"Estimated distance to minimum\">EDM = 0.00021316122282715025</td>\n",
       "        <td title=\"Maximum EDM definition of convergence\">GOAL EDM = 1e-05</td>\n",
       "        <td title=\"Error def. Amount of increase in FCN to be defined as 1 standard deviation\">\n",
       "        UP = 1.0</td>\n",
       "    </tr>\n",
       "</table>\n",
       "<table>\n",
       "    <tr>\n",
       "        <td align=\"center\" title=\"Validity of the migrad call\">Valid</td>\n",
       "        <td align=\"center\" title=\"Validity of parameters\">Valid Param</td>\n",
       "        <td align=\"center\" title=\"Is Covariance matrix accurate?\">Accurate Covar</td>\n",
       "        <td align=\"center\" title=\"Positive definiteness of covariance matrix\">PosDef</td>\n",
       "        <td align=\"center\" title=\"Was covariance matrix made posdef by adding diagonal element\">Made PosDef</td>\n",
       "    </tr>\n",
       "    <tr>\n",
       "        <td align=\"center\" style=\"background-color:#92CCA6\">True</td>\n",
       "        <td align=\"center\" style=\"background-color:#92CCA6\">True</td>\n",
       "        <td align=\"center\" style=\"background-color:#92CCA6\">True</td>\n",
       "        <td align=\"center\" style=\"background-color:#92CCA6\">True</td>\n",
       "        <td align=\"center\" style=\"background-color:#92CCA6\">False</td>\n",
       "    </tr>\n",
       "    <tr>\n",
       "        <td align=\"center\" title=\"Was last hesse call fail?\">Hesse Fail</td>\n",
       "        <td align=\"center\" title=\"Validity of covariance\">HasCov</td>\n",
       "        <td align=\"center\" title=\"Is EDM above goal EDM?\">Above EDM</td>\n",
       "        <td align=\"center\"></td>\n",
       "        <td align=\"center\" title=\"Did last migrad call reach max call limit?\">Reach calllim</td>\n",
       "    </tr>\n",
       "    <tr>\n",
       "        <td align=\"center\" style=\"background-color:#92CCA6\">False</td>\n",
       "        <td align=\"center\" style=\"background-color:#92CCA6\">True</td>\n",
       "        <td align=\"center\" style=\"background-color:#92CCA6\">False</td>\n",
       "        <td align=\"center\"></td>\n",
       "        <td align=\"center\" style=\"background-color:#92CCA6\">False</td>\n",
       "    </tr>\n",
       "</table>"
      ]
     },
     "metadata": {},
     "output_type": "display_data"
    },
    {
     "data": {
      "text/html": [
       "<table>\n",
       "    <tr>\n",
       "        <td><a href=\"#\" onclick=\"$('#yGGtVBTMZf').toggle()\">+</a></td>\n",
       "        <td title=\"Variable name\">Name</td>\n",
       "        <td title=\"Value of parameter\">Value</td>\n",
       "        <td title=\"Hesse error\">Hesse Error</td>\n",
       "        <td title=\"Minos lower error\">Minos Error-</td>\n",
       "        <td title=\"Minos upper error\">Minos Error+</td>\n",
       "        <td title=\"Lower limit of the parameter\">Limit-</td>\n",
       "        <td title=\"Upper limit of the parameter\">Limit+</td>\n",
       "        <td title=\"Is the parameter fixed in the fit\">Fixed?</td>\n",
       "    </tr>\n",
       "    <tr>\n",
       "        <td>0</td>\n",
       "        <td>log_A</td>\n",
       "        <td>-4.70169</td>\n",
       "        <td>0.50761</td>\n",
       "        <td></td>\n",
       "        <td></td>\n",
       "        <td>-5</td>\n",
       "        <td>-1</td>\n",
       "        <td>No</td>\n",
       "    </tr>\n",
       "    <tr>\n",
       "        <td>1</td>\n",
       "        <td>log_f_b</td>\n",
       "        <td>-1.01351</td>\n",
       "        <td>3.30109</td>\n",
       "        <td></td>\n",
       "        <td></td>\n",
       "        <td>-5</td>\n",
       "        <td>-1</td>\n",
       "        <td>No</td>\n",
       "    </tr>\n",
       "    <tr>\n",
       "        <td>2</td>\n",
       "        <td>alpha_H</td>\n",
       "        <td>6.39157</td>\n",
       "        <td>4.58253</td>\n",
       "        <td></td>\n",
       "        <td></td>\n",
       "        <td>2</td>\n",
       "        <td>7</td>\n",
       "        <td>No</td>\n",
       "    </tr>\n",
       "    <tr>\n",
       "        <td>3</td>\n",
       "        <td>poisson</td>\n",
       "        <td>3.1733</td>\n",
       "        <td>0.103593</td>\n",
       "        <td></td>\n",
       "        <td></td>\n",
       "        <td>0</td>\n",
       "        <td>5</td>\n",
       "        <td>No</td>\n",
       "    </tr>\n",
       "</table>\n",
       "<pre id=\"yGGtVBTMZf\" style=\"display:none;\">\n",
       "<textarea rows=\"14\" cols=\"50\" onclick=\"this.select()\" readonly>\n",
       "\\begin{tabular}{|c|r|r|r|r|r|r|r|c|}\n",
       "\\hline\n",
       " & Name & Value & Hesse Error & Minos Error- & Minos Error+ & Limit- & Limit+ & Fixed?\\\\\n",
       "\\hline\n",
       "0 & $log_{A}$ & -4.70169 & 0.50761 &  &  & -5.0 & -1 & No\\\\\n",
       "\\hline\n",
       "1 & log $f_{b}$ & -1.01351 & 3.30109 &  &  & -5.0 & -1 & No\\\\\n",
       "\\hline\n",
       "2 & $\\alpha_{H}$ & 6.39157 & 4.58253 &  &  & 2.0 & 7 & No\\\\\n",
       "\\hline\n",
       "3 & poisson & 3.1733 & 0.103593 &  &  & 0.0 & 5 & No\\\\\n",
       "\\hline\n",
       "\\end{tabular}\n",
       "</textarea>\n",
       "</pre>"
      ]
     },
     "metadata": {},
     "output_type": "display_data"
    },
    {
     "data": {
      "text/html": [
       "<hr>"
      ]
     },
     "metadata": {},
     "output_type": "display_data"
    },
    {
     "name": "stdout",
     "output_type": "stream",
     "text": [
      "4158.28979154928\n"
     ]
    }
   ],
   "source": [
    "m=Minuit(twi_minus_loglikelihood,log_A=math.log(0.005,10),log_f_b=math.log(1.7E-4,10),alpha_H=3.8,poisson=0.8,\n",
    "         error_log_A=0.1,error_log_f_b=0.1,error_alpha_H=0.01,error_poisson=0.01,\n",
    "         limit_log_A=(-5,-1), limit_log_f_b=(-5,-1),limit_alpha_H=(2.0,7.0),limit_poisson=(0,5),\n",
    "         errordef=1)\n",
    "\n",
    "m.migrad()\n",
    "\n",
    "pprint(m.fval)"
   ]
  },
  {
   "cell_type": "code",
   "execution_count": 8,
   "metadata": {},
   "outputs": [
    {
     "data": {
      "image/png": "[encoded data removed]",
      "text/plain": [
       "<Figure size 720x576 with 1 Axes>"
      ]
     },
     "metadata": {
      "needs_background": "light"
     },
     "output_type": "display_data"
    }
   ],
   "source": [
    "perdata18 = pd.read_csv(\"perlist18.csv\")\n",
    "f = perdata18['f']\n",
    "per = perdata18['per']\n",
    "\n",
    "alpha_L = 1.0\n",
    "log_A,log_f_b,alpha_H,poisson = m.values[0],m.values[1],m.values[2],m.values[3]\n",
    "\n",
    "model = []\n",
    "R_obs = []\n",
    "T_SSE_obs = 0\n",
    "f_length = len(f)\n",
    "for i in range(f_length):\n",
    "    model.append(((f[i]**(-alpha_L))/(1+(f[i]/(10**log_f_b))**(alpha_H-alpha_L)))*(10**log_A)+poisson)\n",
    "    R_obs.append(2*per[i]/model[i])\n",
    "    T_SSE_obs += (((per[i]-model[i])/model[i])**2)\n",
    "    \n",
    "plt.figure(figsize=(10,8))\n",
    "plt.loglog()\n",
    "plt.step(f, per, color=\"b\", alpha=0.5, linewidth=1)\n",
    "plt.plot(f, model, color=\"r\", linewidth=1)\n",
    "plt.xlabel(\"frequency\",fontsize=15)\n",
    "plt.ylabel(\"power\",fontsize=15)\n",
    "plt.show()"
   ]
  },
  {
   "cell_type": "code",
   "execution_count": null,
   "metadata": {},
   "outputs": [],
   "source": []
  }
 ],
 "metadata": {
  "kernelspec": {
   "display_name": "Python 3",
   "language": "python",
   "name": "python3"
  },
  "language_info": {
   "codemirror_mode": {
    "name": "ipython",
    "version": 3
   },
   "file_extension": ".py",
   "mimetype": "text/x-python",
   "name": "python",
   "nbconvert_exporter": "python",
   "pygments_lexer": "ipython3",
   "version": "3.7.0"
  }
 },
 "nbformat": 4,
 "nbformat_minor": 2
}
